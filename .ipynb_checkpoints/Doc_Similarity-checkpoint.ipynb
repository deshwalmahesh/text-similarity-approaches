{
 "cells": [
  {
   "cell_type": "code",
   "execution_count": 93,
   "metadata": {},
   "outputs": [],
   "source": [
    "from sklearn.feature_extraction.text import TfidfVectorizer, TfidfTransformer\n",
    "from scipy import spatial"
   ]
  },
  {
   "cell_type": "code",
   "execution_count": 86,
   "metadata": {},
   "outputs": [],
   "source": [
    "d1 = \"Music is a universal language\"\n",
    "d2  =  \"Music is a miracle\"\n",
    "d3  =  \"Music is a universal feature of the human experience\"\n",
    "d = [d1,d2,d3]"
   ]
  },
  {
   "cell_type": "markdown",
   "metadata": {},
   "source": [
    "# Jaccard Similarity"
   ]
  },
  {
   "cell_type": "code",
   "execution_count": 103,
   "metadata": {},
   "outputs": [
    {
     "name": "stdout",
     "output_type": "stream",
     "text": [
      "0.5\n",
      "0.3\n"
     ]
    }
   ],
   "source": [
    "def get_jaccard_sim(str1, str2): \n",
    "    a = set(str1.split()) \n",
    "    b = set(str2.split())\n",
    "    c = a.intersection(b)\n",
    "    return float(len(c)) / (len(a) + len(b) - len(c))\n",
    "\n",
    "print(get_jaccard_sim(d1,d2))\n",
    "print(get_jaccard_sim(d2,d3))"
   ]
  },
  {
   "cell_type": "markdown",
   "metadata": {},
   "source": [
    "# TfIdf"
   ]
  },
  {
   "cell_type": "code",
   "execution_count": 98,
   "metadata": {},
   "outputs": [
    {
     "name": "stdout",
     "output_type": "stream",
     "text": [
      "['experience', 'feature', 'human', 'is', 'language', 'miracle', 'music', 'of', 'the', 'universal']\n"
     ]
    }
   ],
   "source": [
    "fitted = TfidfVectorizer().fit(d)\n",
    "transformed = fitted.transform(d)\n",
    "\n",
    "print(fitted.get_feature_names())\n",
    "\n",
    "a1 = transformed.toarray()[0]\n",
    "a2 = transformed.toarray()[1]\n",
    "a3 = transformed.toarray()[2]"
   ]
  },
  {
   "cell_type": "code",
   "execution_count": 104,
   "metadata": {},
   "outputs": [
    {
     "name": "stdout",
     "output_type": "stream",
     "text": [
      "0.3549151836521609\n",
      "0.21373347085583771\n"
     ]
    }
   ],
   "source": [
    "print(1-spatial.distance.cosine(a1,a2))\n",
    "print(1-spatial.distance.cosine(a2,a3))"
   ]
  },
  {
   "cell_type": "markdown",
   "metadata": {},
   "source": [
    "# Embeddings + Distance\n",
    "1. Get Vectors for each Word\n",
    "2. Average / Concat / Median all the Embedding of each word in Sentence / Document\n",
    "3. Calculate the Distance between 2"
   ]
  },
  {
   "cell_type": "markdown",
   "metadata": {},
   "source": [
    "# Embeddings + TfIdf\n",
    "1. Get Vectors for each Word\n",
    "2. Multiply by the `idf` of each word\n",
    "3. Average / Concat / Median all the Embedding of each word in Sentence / Document\n",
    "4. Calculate the Distance between 2"
   ]
  },
  {
   "cell_type": "markdown",
   "metadata": {},
   "source": [
    "# LDA"
   ]
  },
  {
   "cell_type": "code",
   "execution_count": null,
   "metadata": {},
   "outputs": [],
   "source": []
  }
 ],
 "metadata": {
  "kernelspec": {
   "display_name": "Python 3",
   "language": "python",
   "name": "python3"
  },
  "language_info": {
   "codemirror_mode": {
    "name": "ipython",
    "version": 3
   },
   "file_extension": ".py",
   "mimetype": "text/x-python",
   "name": "python",
   "nbconvert_exporter": "python",
   "pygments_lexer": "ipython3",
   "version": "3.8.5"
  }
 },
 "nbformat": 4,
 "nbformat_minor": 4
}
